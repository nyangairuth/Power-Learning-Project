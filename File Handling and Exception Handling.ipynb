{
 "cells": [
  {
   "cell_type": "markdown",
   "id": "9a95fb12-5c2d-4232-9b83-a2d9cc540f4e",
   "metadata": {},
   "source": [
    "Task Requirements:\n",
    "Create a file called input.txt and write at least five lines of text into it.\n",
    "\n",
    "Write a Python script to:\n",
    "Read the contents of input.txt.\n",
    "Count the number of words in the file.\n",
    "Convert all text to uppercase.\n",
    "\n",
    "Write the processed text and the word count to a new file called output.txt.\n",
    "Print a success message once the new file is created."
   ]
  },
  {
   "cell_type": "code",
   "execution_count": 4,
   "id": "f91572f7-7eb4-4ac2-b8d6-3a0d33715ed0",
   "metadata": {},
   "outputs": [],
   "source": [
    "with open(\"input.txt\",\"w\") as f:\n",
    "    f.write(\"\"\" \n",
    "    Hello, my name is Ruth.\n",
    "    I have studied for Geospatial Engineering.\n",
    "    I am looking for a job relevant to my course.\n",
    "    Do you have any leads?\n",
    "    I am currently learning python.\n",
    "    \"\"\")\n",
    "    "
   ]
  },
  {
   "cell_type": "markdown",
   "id": "3595c77a-8b79-4274-9bfa-273e2491e86d",
   "metadata": {},
   "source": [
    "File Read & Write Challenge 🖋️: Create a program that reads a file and writes a modified version to a new file."
   ]
  },
  {
   "cell_type": "code",
   "execution_count": 5,
   "id": "3b57de4a-5ecf-4413-8955-fa175d8addde",
   "metadata": {},
   "outputs": [
    {
     "name": "stdout",
     "output_type": "stream",
     "text": [
      "Hello, my name is Ruth.\n",
      "    I have studied for Geospatial Engineering.\n",
      "    I am looking for a job relevant to my course.\n",
      "    Do you have any leads?\n",
      "    I am currently learning python.\n"
     ]
    }
   ],
   "source": [
    "with open(\"input.txt\",\"r\") as f:\n",
    "    data = f.read()\n",
    "    clean=data.strip()\n",
    "    print(clean)\n",
    "    count= len(clean)\n",
    "    text_Uppercase=clean.upper()\n",
    "    "
   ]
  },
  {
   "cell_type": "code",
   "execution_count": 7,
   "id": "8c7c9c16-be26-42df-be3d-cd49b06622c6",
   "metadata": {},
   "outputs": [],
   "source": [
    "with open(\"output.txt\",\"w\") as file:\n",
    "    file.write(str(count))\n",
    "    file.write(text_Uppercase)\n",
    "    "
   ]
  },
  {
   "cell_type": "markdown",
   "id": "a59cbd28-8b53-4503-a566-1b21bf371ea3",
   "metadata": {},
   "source": [
    "Error Handling Lab 🧪: Ask the user for a filename and handle errors if it doesn’t exist or can’t be read."
   ]
  },
  {
   "cell_type": "code",
   "execution_count": 8,
   "id": "1a050d16-e23c-4a26-95a2-71c2918cf633",
   "metadata": {},
   "outputs": [
    {
     "name": "stdin",
     "output_type": "stream",
     "text": [
      "Enter filename: Random.txt\n"
     ]
    },
    {
     "name": "stdout",
     "output_type": "stream",
     "text": [
      "File not found.\n"
     ]
    }
   ],
   "source": [
    "file=input(\"Enter filename:\")\n",
    "try:\n",
    "    with open(f\"{file}\",\"r\") as f:\n",
    "        Data=f.read()\n",
    "        print(Data)\n",
    "except FileNotFoundError:\n",
    "    print(\"File not found.\")\n",
    "    "
   ]
  },
  {
   "cell_type": "code",
   "execution_count": null,
   "id": "cee909f3-20f5-4cac-88b1-480a8842387f",
   "metadata": {},
   "outputs": [],
   "source": []
  }
 ],
 "metadata": {
  "kernelspec": {
   "display_name": "Python 3 (ipykernel)",
   "language": "python",
   "name": "python3"
  },
  "language_info": {
   "codemirror_mode": {
    "name": "ipython",
    "version": 3
   },
   "file_extension": ".py",
   "mimetype": "text/x-python",
   "name": "python",
   "nbconvert_exporter": "python",
   "pygments_lexer": "ipython3",
   "version": "3.11.13"
  }
 },
 "nbformat": 4,
 "nbformat_minor": 5
}

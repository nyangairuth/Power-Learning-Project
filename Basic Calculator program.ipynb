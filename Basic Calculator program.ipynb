{
 "cells": [
  {
   "cell_type": "code",
   "execution_count": 1,
   "id": "8af277a4-fae8-4b86-ae86-c10d49ab30c0",
   "metadata": {},
   "outputs": [
    {
     "name": "stdin",
     "output_type": "stream",
     "text": [
      "Enter a number 20\n",
      "Enter another number 3\n",
      "Enter a mathematical operator *\n"
     ]
    },
    {
     "name": "stdout",
     "output_type": "stream",
     "text": [
      "60\n"
     ]
    }
   ],
   "source": [
    "x=int(input(\"Enter a number\"))\n",
    "y=int(input(\"Enter another number\"))\n",
    "operator=input(\"Enter a mathematical operator\")\n",
    "\n",
    "if operator == '+':\n",
    "    output = x + y\n",
    "elif operator == '-':\n",
    "    output = x - y\n",
    "elif operator == '*':\n",
    "    output = x * y\n",
    "elif operator == '**':\n",
    "    output = x ** y\n",
    "elif operator == '/' or operator == '//' or operator == '//':\n",
    "    if y != 0:\n",
    "        output = x / y\n",
    "    else:\n",
    "        output = \"Error: Division by zero\"\n",
    "else:\n",
    "    output = \"Invalid operator\"\n",
    "\n",
    "print(output)"
   ]
  },
  {
   "cell_type": "code",
   "execution_count": null,
   "id": "6b0cebdb-4292-47dc-8096-848487618f63",
   "metadata": {},
   "outputs": [],
   "source": []
  }
 ],
 "metadata": {
  "kernelspec": {
   "display_name": "Python 3 (ipykernel)",
   "language": "python",
   "name": "python3"
  },
  "language_info": {
   "codemirror_mode": {
    "name": "ipython",
    "version": 3
   },
   "file_extension": ".py",
   "mimetype": "text/x-python",
   "name": "python",
   "nbconvert_exporter": "python",
   "pygments_lexer": "ipython3",
   "version": "3.11.13"
  }
 },
 "nbformat": 4,
 "nbformat_minor": 5
}

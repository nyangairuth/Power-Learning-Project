{
 "cells": [
  {
   "cell_type": "markdown",
   "id": "b4c73acc-57a1-41ad-98c6-8b7f908bbcc7",
   "metadata": {},
   "source": [
    "ASSIGNMENT 3\n",
    "Create a function named calculate_discount(price, discount_percent) that calculates the final price after applying a discount. The function should take the original price (price) and the discount percentage (discount_percent) as parameters. If the discount is 20% or higher, apply the discount; otherwise, return the original price.\n",
    "\n",
    "Using the calculate_discount function, prompt the user to enter the original price of an item and the discount percentage. Print the final price after applying the discount, or if no discount was applied, print the original price."
   ]
  },
  {
   "cell_type": "code",
   "execution_count": 3,
   "id": "7b602e24-905a-490f-9895-fc8862732519",
   "metadata": {},
   "outputs": [],
   "source": [
    "def calculate_discount():\n",
    "    price=int(input(\"Enter price:\"))\n",
    "    discount_percent=int(input(\"Enter discount percent:\"))\n",
    "    if discount_percent== 0:\n",
    "        print(f\"Price: {price}\")\n",
    "    else:\n",
    "        return ((100-discount_percent)*price)/100\n"
   ]
  },
  {
   "cell_type": "code",
   "execution_count": 4,
   "id": "9ac1ba6c-0afb-4ac9-8d41-2117539142ca",
   "metadata": {},
   "outputs": [
    {
     "name": "stdin",
     "output_type": "stream",
     "text": [
      "Enter price: 10000\n",
      "Enter discount percent: 10\n"
     ]
    },
    {
     "data": {
      "text/plain": [
       "9000.0"
      ]
     },
     "execution_count": 4,
     "metadata": {},
     "output_type": "execute_result"
    }
   ],
   "source": [
    "calculate_discount()"
   ]
  },
  {
   "cell_type": "code",
   "execution_count": null,
   "id": "9573a388-24bc-448e-8887-1e0828ce4ab5",
   "metadata": {},
   "outputs": [],
   "source": []
  }
 ],
 "metadata": {
  "kernelspec": {
   "display_name": "Python 3 (ipykernel)",
   "language": "python",
   "name": "python3"
  },
  "language_info": {
   "codemirror_mode": {
    "name": "ipython",
    "version": 3
   },
   "file_extension": ".py",
   "mimetype": "text/x-python",
   "name": "python",
   "nbconvert_exporter": "python",
   "pygments_lexer": "ipython3",
   "version": "3.11.13"
  }
 },
 "nbformat": 4,
 "nbformat_minor": 5
}
